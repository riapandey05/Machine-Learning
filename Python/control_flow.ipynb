{
 "cells": [
  {
   "cell_type": "markdown",
   "id": "681001fc",
   "metadata": {},
   "source": [
    "If-Else statement"
   ]
  },
  {
   "cell_type": "code",
   "execution_count": 3,
   "id": "8fbe3963",
   "metadata": {},
   "outputs": [
    {
     "name": "stdout",
     "output_type": "stream",
     "text": [
      "You are an adult\n"
     ]
    }
   ],
   "source": [
    "age = 20\n",
    "if age>18:\n",
    "    print(\"You are an adult\")\n",
    "elif age<18:\n",
    "    print(\"You are a minor\")\n",
    "else:\n",
    "    print(\"You are a buddha\")"
   ]
  },
  {
   "cell_type": "markdown",
   "id": "3fb23e62",
   "metadata": {},
   "source": [
    "nested conditional statements"
   ]
  },
  {
   "cell_type": "code",
   "execution_count": 4,
   "id": "0fbc8d99",
   "metadata": {},
   "outputs": [
    {
     "name": "stdout",
     "output_type": "stream",
     "text": [
      "odd number\n"
     ]
    }
   ],
   "source": [
    "num = int(input(\"Enter a number\"))\n",
    "if num>=0:\n",
    "    if num%2==0:\n",
    "        print(\"it is a even positive number\")\n",
    "    else:\n",
    "        print(\"odd number\")\n",
    "else:\n",
    "    print(\"number is odd\")"
   ]
  },
  {
   "cell_type": "code",
   "execution_count": null,
   "id": "b5c8ab59",
   "metadata": {},
   "outputs": [],
   "source": []
  },
  {
   "cell_type": "code",
   "execution_count": null,
   "metadata": {},
   "outputs": [],
   "source": []
  }
 ],
 "metadata": {
  "kernelspec": {
   "display_name": "Python 3",
   "language": "python",
   "name": "python3"
  },
  "language_info": {
   "codemirror_mode": {
    "name": "ipython",
    "version": 3
   },
   "file_extension": ".py",
   "mimetype": "text/x-python",
   "name": "python",
   "nbconvert_exporter": "python",
   "pygments_lexer": "ipython3",
   "version": "3.12.0"
  }
 },
 "nbformat": 4,
 "nbformat_minor": 5
}
